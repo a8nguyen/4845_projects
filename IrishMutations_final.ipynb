{
 "cells": [
  {
   "cell_type": "code",
   "execution_count": 1,
   "metadata": {},
   "outputs": [],
   "source": [
    "from fromscratch_editted import *\n",
    "import time"
   ]
  },
  {
   "cell_type": "code",
   "execution_count": 2,
   "metadata": {},
   "outputs": [],
   "source": [
    "file_train = load_file('train.tsv')\n",
    "file_test = load_file('test.tsv')\n",
    "x_train, y_train, x_dev, y_dev = [], [], [], []\n",
    "for line in file_train:\n",
    "    word = line.strip().split(\"\\t\")\n",
    "    x_train.append(word[0])\n",
    "    y_train.append(word[1])\n",
    "for line in file_test:\n",
    "    word = line.strip().split(\"\\t\")\n",
    "    x_dev.append(word[0])\n",
    "    y_dev.append(word[1])"
   ]
  },
  {
   "cell_type": "markdown",
   "metadata": {},
   "source": [
    "**From Scratch Implementation**"
   ]
  },
  {
   "cell_type": "markdown",
   "metadata": {},
   "source": [
    "**EXP1**: HMM where the transimssion matrix used is tmat[previous_tag_{i-1}][current_tag_{i}] without smoothing"
   ]
  },
  {
   "cell_type": "code",
   "execution_count": 14,
   "metadata": {},
   "outputs": [
    {
     "name": "stdout",
     "output_type": "stream",
     "text": [
      "CPU times: user 2 µs, sys: 1 µs, total: 3 µs\n",
      "Wall time: 5.01 µs\n"
     ]
    }
   ],
   "source": [
    "word_to_tag_count, count_dict = create_hmm_dict(x_train, y_train)\n",
    "\n",
    "tag_tag_count = create_upto_ngram_dict(y_train)\n",
    "\n",
    "emission = create_frequency_dict(word_to_tag_count, count_dict, alpha = 0)\n",
    "\n",
    "tmat = create_upto_ngram_frequency_dict(tag_tag_count, count_dict)\n",
    "\n",
    "initial_prob_distrib = create_sentence_start_dict(x_train, y_train)\n",
    "%time\n",
    "dev_accuracy_exp1 = evaluate(x_dev, y_dev,  emission, tmat, initial_prob_distrib)\n",
    "\n"
   ]
  },
  {
   "cell_type": "code",
   "execution_count": 15,
   "metadata": {},
   "outputs": [
    {
     "name": "stdout",
     "output_type": "stream",
     "text": [
      "Accurcy on test dataset: 0.904258\n"
     ]
    }
   ],
   "source": [
    "print(\"Accurcy on test dataset:\", dev_accuracy_exp1)\n"
   ]
  },
  {
   "cell_type": "markdown",
   "metadata": {},
   "source": [
    "**Exp2**: HMM implementation where the transmission matrix used is tmat[previous_tag_{i-1}][current_tag_{i}].  It really didn't make sense for me to do back_off on the transmission matrix if we are conditioning on tags...\n",
    "\n",
    "Smoothing alpha=1e-7 for emission vectors. I added alpha at the probability level (not the count). I have tried a bunch of small alpha's. Here is the one I manually found the best!"
   ]
  },
  {
   "cell_type": "code",
   "execution_count": 16,
   "metadata": {},
   "outputs": [],
   "source": [
    "word_to_tag_count, count_dict = create_hmm_dict(x_train, y_train)\n",
    "\n",
    "tag_tag_count = create_upto_ngram_dict(y_train)\n",
    "\n",
    "emission = create_frequency_dict(word_to_tag_count, count_dict, alpha=0.0000001)\n",
    "\n",
    "tmat = create_upto_ngram_frequency_dict(tag_tag_count, count_dict)\n",
    "\n",
    "initial_prob_distrib = create_sentence_start_dict(x_train, y_train)\n",
    "\n",
    "dev_accuracy_exp2 = evaluate(x_dev, y_dev,  emission, tmat, initial_prob_distrib)\n",
    "\n"
   ]
  },
  {
   "cell_type": "code",
   "execution_count": 17,
   "metadata": {},
   "outputs": [
    {
     "name": "stdout",
     "output_type": "stream",
     "text": [
      "Accurcy on test dataset: 0.909563\n"
     ]
    }
   ],
   "source": [
    "print(\"Accurcy on test dataset:\", dev_accuracy_exp2)"
   ]
  },
  {
   "cell_type": "markdown",
   "metadata": {},
   "source": [
    "**Exp 3** Not reported here. You can find it in `IrishMutations_AN_exp_messy` notebook. I used a different tmat. Tmat[w_{i-1}][t_{i}]. The code wasn't so clean. The result is slightly worse than using the tag-to-tag transition. I didn't try back-off on the transition matrix. Or adding alpha smoothing... Although we have this linguistic knowledge that the identity of previous words depends on the following tag."
   ]
  },
  {
   "cell_type": "markdown",
   "metadata": {},
   "source": [
    "**Library Implementation**"
   ]
  },
  {
   "cell_type": "markdown",
   "metadata": {},
   "source": [
    "You can find it in `Anything_goes` notebook"
   ]
  }
 ],
 "metadata": {
  "kernelspec": {
   "display_name": "Python 3.9.5 64-bit",
   "language": "python",
   "name": "python3"
  },
  "language_info": {
   "codemirror_mode": {
    "name": "ipython",
    "version": 3
   },
   "file_extension": ".py",
   "mimetype": "text/x-python",
   "name": "python",
   "nbconvert_exporter": "python",
   "pygments_lexer": "ipython3",
   "version": "3.9.5"
  },
  "orig_nbformat": 4,
  "vscode": {
   "interpreter": {
    "hash": "aee8b7b246df8f9039afb4144a1f6fd8d2ca17a180786b69acc140d282b71a49"
   }
  }
 },
 "nbformat": 4,
 "nbformat_minor": 2
}
