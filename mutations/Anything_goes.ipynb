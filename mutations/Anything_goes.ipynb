{
  "cells": [
    {
      "cell_type": "code",
      "execution_count": 35,
      "metadata": {
        "colab": {
          "base_uri": "https://localhost:8080/"
        },
        "id": "wUscRjZDbo1k",
        "outputId": "69748bed-0e92-4668-f982-554c0f59001b"
      },
      "outputs": [
        {
          "name": "stdout",
          "output_type": "stream",
          "text": [
            "Drive already mounted at /content/drive; to attempt to forcibly remount, call drive.mount(\"/content/drive\", force_remount=True).\n",
            "/content/drive/MyDrive/SLU Semesters/SLU 3rd Semester/NLP/Second Competition/final2\n",
            "Anything_goes.ipynb  test.tsv  train.tsv  \u001b[0m\u001b[01;34muntitled_project\u001b[0m/\n"
          ]
        }
      ],
      "source": [
        "from google.colab import drive\n",
        "# Mount google drive\n",
        "drive.mount('/content/drive')\n",
        "%cd /content/drive/MyDrive/nlp/2/\n",
        "\n",
        "%ls"
      ]
    },
    {
      "cell_type": "code",
      "execution_count": 36,
      "metadata": {
        "colab": {
          "base_uri": "https://localhost:8080/",
          "height": 206
        },
        "id": "yTCe8by_bwwG",
        "outputId": "c19a3bca-8d5d-4a3b-dd5a-d59c4e6079f5"
      },
      "outputs": [
        {
          "data": {
            "text/html": [
              "\n",
              "  <div id=\"df-6839d355-9bcd-4747-b33d-33bc8c2efe84\">\n",
              "    <div class=\"colab-df-container\">\n",
              "      <div>\n",
              "<style scoped>\n",
              "    .dataframe tbody tr th:only-of-type {\n",
              "        vertical-align: middle;\n",
              "    }\n",
              "\n",
              "    .dataframe tbody tr th {\n",
              "        vertical-align: top;\n",
              "    }\n",
              "\n",
              "    .dataframe thead th {\n",
              "        text-align: right;\n",
              "    }\n",
              "</style>\n",
              "<table border=\"1\" class=\"dataframe\">\n",
              "  <thead>\n",
              "    <tr style=\"text-align: right;\">\n",
              "      <th></th>\n",
              "      <th>word</th>\n",
              "      <th>tag</th>\n",
              "    </tr>\n",
              "  </thead>\n",
              "  <tbody>\n",
              "    <tr>\n",
              "      <th>0</th>\n",
              "      <td>ansin</td>\n",
              "      <td>N</td>\n",
              "    </tr>\n",
              "    <tr>\n",
              "      <th>1</th>\n",
              "      <td>)</td>\n",
              "      <td>N</td>\n",
              "    </tr>\n",
              "    <tr>\n",
              "      <th>2</th>\n",
              "      <td>tá</td>\n",
              "      <td>N</td>\n",
              "    </tr>\n",
              "    <tr>\n",
              "      <th>3</th>\n",
              "      <td>níos</td>\n",
              "      <td>N</td>\n",
              "    </tr>\n",
              "    <tr>\n",
              "      <th>4</th>\n",
              "      <td>lú</td>\n",
              "      <td>N</td>\n",
              "    </tr>\n",
              "  </tbody>\n",
              "</table>\n",
              "</div>\n",
              "      <button class=\"colab-df-convert\" onclick=\"convertToInteractive('df-6839d355-9bcd-4747-b33d-33bc8c2efe84')\"\n",
              "              title=\"Convert this dataframe to an interactive table.\"\n",
              "              style=\"display:none;\">\n",
              "        \n",
              "  <svg xmlns=\"http://www.w3.org/2000/svg\" height=\"24px\"viewBox=\"0 0 24 24\"\n",
              "       width=\"24px\">\n",
              "    <path d=\"M0 0h24v24H0V0z\" fill=\"none\"/>\n",
              "    <path d=\"M18.56 5.44l.94 2.06.94-2.06 2.06-.94-2.06-.94-.94-2.06-.94 2.06-2.06.94zm-11 1L8.5 8.5l.94-2.06 2.06-.94-2.06-.94L8.5 2.5l-.94 2.06-2.06.94zm10 10l.94 2.06.94-2.06 2.06-.94-2.06-.94-.94-2.06-.94 2.06-2.06.94z\"/><path d=\"M17.41 7.96l-1.37-1.37c-.4-.4-.92-.59-1.43-.59-.52 0-1.04.2-1.43.59L10.3 9.45l-7.72 7.72c-.78.78-.78 2.05 0 2.83L4 21.41c.39.39.9.59 1.41.59.51 0 1.02-.2 1.41-.59l7.78-7.78 2.81-2.81c.8-.78.8-2.07 0-2.86zM5.41 20L4 18.59l7.72-7.72 1.47 1.35L5.41 20z\"/>\n",
              "  </svg>\n",
              "      </button>\n",
              "      \n",
              "  <style>\n",
              "    .colab-df-container {\n",
              "      display:flex;\n",
              "      flex-wrap:wrap;\n",
              "      gap: 12px;\n",
              "    }\n",
              "\n",
              "    .colab-df-convert {\n",
              "      background-color: #E8F0FE;\n",
              "      border: none;\n",
              "      border-radius: 50%;\n",
              "      cursor: pointer;\n",
              "      display: none;\n",
              "      fill: #1967D2;\n",
              "      height: 32px;\n",
              "      padding: 0 0 0 0;\n",
              "      width: 32px;\n",
              "    }\n",
              "\n",
              "    .colab-df-convert:hover {\n",
              "      background-color: #E2EBFA;\n",
              "      box-shadow: 0px 1px 2px rgba(60, 64, 67, 0.3), 0px 1px 3px 1px rgba(60, 64, 67, 0.15);\n",
              "      fill: #174EA6;\n",
              "    }\n",
              "\n",
              "    [theme=dark] .colab-df-convert {\n",
              "      background-color: #3B4455;\n",
              "      fill: #D2E3FC;\n",
              "    }\n",
              "\n",
              "    [theme=dark] .colab-df-convert:hover {\n",
              "      background-color: #434B5C;\n",
              "      box-shadow: 0px 1px 3px 1px rgba(0, 0, 0, 0.15);\n",
              "      filter: drop-shadow(0px 1px 2px rgba(0, 0, 0, 0.3));\n",
              "      fill: #FFFFFF;\n",
              "    }\n",
              "  </style>\n",
              "\n",
              "      <script>\n",
              "        const buttonEl =\n",
              "          document.querySelector('#df-6839d355-9bcd-4747-b33d-33bc8c2efe84 button.colab-df-convert');\n",
              "        buttonEl.style.display =\n",
              "          google.colab.kernel.accessAllowed ? 'block' : 'none';\n",
              "\n",
              "        async function convertToInteractive(key) {\n",
              "          const element = document.querySelector('#df-6839d355-9bcd-4747-b33d-33bc8c2efe84');\n",
              "          const dataTable =\n",
              "            await google.colab.kernel.invokeFunction('convertToInteractive',\n",
              "                                                     [key], {});\n",
              "          if (!dataTable) return;\n",
              "\n",
              "          const docLinkHtml = 'Like what you see? Visit the ' +\n",
              "            '<a target=\"_blank\" href=https://colab.research.google.com/notebooks/data_table.ipynb>data table notebook</a>'\n",
              "            + ' to learn more about interactive tables.';\n",
              "          element.innerHTML = '';\n",
              "          dataTable['output_type'] = 'display_data';\n",
              "          await google.colab.output.renderOutput(dataTable, element);\n",
              "          const docLink = document.createElement('div');\n",
              "          docLink.innerHTML = docLinkHtml;\n",
              "          element.appendChild(docLink);\n",
              "        }\n",
              "      </script>\n",
              "    </div>\n",
              "  </div>\n",
              "  "
            ],
            "text/plain": [
              "    word tag\n",
              "0  ansin   N\n",
              "1      )   N\n",
              "2     tá   N\n",
              "3   níos   N\n",
              "4     lú   N"
            ]
          },
          "execution_count": 36,
          "metadata": {},
          "output_type": "execute_result"
        }
      ],
      "source": [
        "import pandas as pd\n",
        "# Load dataset file\n",
        "df_total = pd.read_csv(\"train.tsv\", sep='\\t', names=[\"word\", \"tag\"])\n",
        "df_total.head()"
      ]
    },
    {
      "cell_type": "code",
      "execution_count": 37,
      "metadata": {
        "id": "SqC4e8temX4D"
      },
      "outputs": [],
      "source": [
        "import csv\n",
        "\n",
        "df_test = pd.read_csv(\"test.tsv\", sep='\\t', names=[\"word\", \"tag\"], quoting=csv.QUOTE_NONE)\n",
        "final_test = [[(df_test.loc[i,'word'], df_test.loc[i,'tag'])] for i in range(len(df_test))]"
      ]
    },
    {
      "cell_type": "code",
      "execution_count": 38,
      "metadata": {
        "colab": {
          "base_uri": "https://localhost:8080/",
          "height": 143
        },
        "id": "sOHOdisPbylD",
        "outputId": "9d9ded41-c27a-4aa1-9d72-f2e81d4da383"
      },
      "outputs": [
        {
          "name": "stdout",
          "output_type": "stream",
          "text": [
            "N    4339849\n",
            "S     493102\n",
            "U     165818\n",
            "H      40569\n",
            "T      17721\n",
            "Name: tag, dtype: int64\n"
          ]
        },
        {
          "data": {
            "application/vnd.google.colaboratory.intrinsic+json": {
              "type": "string"
            },
            "text/plain": [
              "'N'"
            ]
          },
          "execution_count": 38,
          "metadata": {},
          "output_type": "execute_result"
        }
      ],
      "source": [
        "# df2 = df_total[:15000]\n",
        "df2 = df_total.copy()\n",
        "df2.describe()\n",
        "print((df2['tag'].value_counts()))\n",
        "lbl = df2['tag'].value_counts().max()\n",
        "max_label = df2['tag'][lbl]\n",
        "max_label"
      ]
    },
    {
      "cell_type": "code",
      "execution_count": null,
      "metadata": {
        "id": "vffnjryhdXLc"
      },
      "outputs": [],
      "source": [
        "# converting input shape for tagger\n",
        "df3 = [[(df2.loc[i,'word'], df2.loc[i,'tag'])] for i in range(len(df2))]"
      ]
    },
    {
      "cell_type": "code",
      "execution_count": null,
      "metadata": {
        "colab": {
          "base_uri": "https://localhost:8080/"
        },
        "id": "qIubdvydeLKV",
        "outputId": "262d8756-0562-4e8a-ce6f-3cda272088dc"
      },
      "outputs": [
        {
          "data": {
            "text/plain": [
              "4551353"
            ]
          },
          "execution_count": 6,
          "metadata": {},
          "output_type": "execute_result"
        }
      ],
      "source": [
        "# creating train and test datasets - source: https://colab.research.google.com/drive/1pAuj6j5UAzBrGHPmgP5IufT35O9E6lvt?usp=sharing\n",
        "split = int(len(df3)*0.9)\n",
        "train = df3[:split]\n",
        "test = df3[split:]\n",
        "len(train)"
      ]
    },
    {
      "cell_type": "markdown",
      "metadata": {
        "id": "3UflkEvQ_O5x"
      },
      "source": [
        "**Unigram tagger**"
      ]
    },
    {
      "cell_type": "code",
      "execution_count": null,
      "metadata": {
        "colab": {
          "base_uri": "https://localhost:8080/"
        },
        "id": "Gw5g8u4OdSE_",
        "outputId": "b68d9345-fb24-41cd-83a9-a778a348e439"
      },
      "outputs": [
        {
          "name": "stdout",
          "output_type": "stream",
          "text": [
            "Unigram tagger accuracy without backoff tagger is:  0.8941875318861157\n"
          ]
        }
      ],
      "source": [
        "# unigram tagger \n",
        "import nltk\n",
        "unigram_tagger = nltk.UnigramTagger(train)\n",
        "print(\"Unigram tagger accuracy without backoff tagger is: \", unigram_tagger.accuracy(test))"
      ]
    },
    {
      "cell_type": "code",
      "execution_count": null,
      "metadata": {
        "colab": {
          "base_uri": "https://localhost:8080/"
        },
        "id": "p2bbyuO-cri0",
        "outputId": "a6e35884-89aa-4b8e-995b-15230b903770"
      },
      "outputs": [
        {
          "name": "stdout",
          "output_type": "stream",
          "text": [
            "Unigram tagger accuracy with backoff tagger is:  0.907707244920962\n"
          ]
        }
      ],
      "source": [
        "from nltk.tag import SequentialBackoffTagger\n",
        "from nltk.tag import DefaultTagger \n",
        "from nltk.tag import UnigramTagger \n",
        "\n",
        "back_tagger = DefaultTagger(max_label)\n",
        "unigram_tagger2 = UnigramTagger(train, backoff = back_tagger)\n",
        "print(\"Unigram tagger accuracy with backoff tagger is: \", unigram_tagger2.accuracy(test))"
      ]
    },
    {
      "cell_type": "code",
      "execution_count": null,
      "metadata": {
        "colab": {
          "base_uri": "https://localhost:8080/"
        },
        "id": "a86SHvbIm9oI",
        "outputId": "f5198198-2c67-42ac-e1eb-9e5f5cbd166e"
      },
      "outputs": [
        {
          "name": "stdout",
          "output_type": "stream",
          "text": [
            "Unigram tagger accuracy with backoff tagger is:  0.908256\n"
          ]
        }
      ],
      "source": [
        "# accuracy on final test set\n",
        "print(\"Unigram tagger accuracy with backoff tagger is: \", unigram_tagger2.accuracy(final_test))"
      ]
    },
    {
      "cell_type": "markdown",
      "metadata": {
        "id": "y3q7YVTtObTF"
      },
      "source": [
        "**RNN**"
      ]
    },
    {
      "cell_type": "code",
      "execution_count": 39,
      "metadata": {
        "colab": {
          "base_uri": "https://localhost:8080/"
        },
        "id": "vGx_KnyxObxU",
        "outputId": "649bb338-6375-492a-e02b-9a02d2a02322"
      },
      "outputs": [
        {
          "name": "stdout",
          "output_type": "stream",
          "text": [
            "126549\n",
            "6\n"
          ]
        }
      ],
      "source": [
        "# df_rnn = df_total[:10000]\n",
        "df_rnn = df_total.copy()\n",
        "df_rnn2 = [[(df_rnn.loc[i,'word'], df_rnn.loc[i,'tag'])] for i in range(len(df_rnn))]\n",
        "\n",
        "# creating vocab and tags lists from df for word2index and tag2index - source: https://colab.research.google.com/drive/1D8aeXQVb_aVcfr7thA7UYlmD0Tq_XjPU?usp=sharing\n",
        "vocab = list(set(list(df_rnn['word'])))\n",
        "vocab.append('<PAD>')\n",
        "\n",
        "# tags = list(df_rnn['tag'])\n",
        "tags = list(set(list(df_rnn['tag'])))\n",
        "tags.append('<PAD>')\n",
        "\n",
        "print(len(vocab))\n",
        "print(len(tags))"
      ]
    },
    {
      "cell_type": "code",
      "execution_count": 40,
      "metadata": {
        "colab": {
          "base_uri": "https://localhost:8080/"
        },
        "id": "eAM0y9bmL6Nn",
        "outputId": "eec1245b-537e-4ab9-e249-ce4836c5b6ad"
      },
      "outputs": [
        {
          "data": {
            "text/plain": [
              "['H', 'S', 'U', 'T', 'N', '<PAD>']"
            ]
          },
          "execution_count": 40,
          "metadata": {},
          "output_type": "execute_result"
        }
      ],
      "source": [
        "tags"
      ]
    },
    {
      "cell_type": "code",
      "execution_count": 41,
      "metadata": {
        "id": "OIwqDGP7NmP-"
      },
      "outputs": [],
      "source": [
        "from tensorflow.keras.preprocessing.sequence import pad_sequences\n",
        "# source: https://colab.research.google.com/drive/1D8aeXQVb_aVcfr7thA7UYlmD0Tq_XjPU?usp=sharing\n",
        "max_len = 5\n",
        "word2index = {w: i for i, w in enumerate(vocab)}\n",
        "tag2index = {t: i for i, t in enumerate(tags)}\n",
        "onehot = [[word2index[w[0]] for w in s] for s in df_rnn2]\n",
        "X = pad_sequences(maxlen=max_len, sequences=onehot, padding=\"post\", value=len(vocab)-1)"
      ]
    },
    {
      "cell_type": "code",
      "execution_count": 42,
      "metadata": {
        "colab": {
          "base_uri": "https://localhost:8080/"
        },
        "id": "71EWNLByshAD",
        "outputId": "0857045d-b6b3-4535-f49e-2ed6a6f4ed56"
      },
      "outputs": [
        {
          "name": "stdout",
          "output_type": "stream",
          "text": [
            "5057059\n",
            "<class 'list'>\n",
            "(5057059, 5)\n"
          ]
        }
      ],
      "source": [
        "print(len(onehot))\n",
        "print(type(onehot))\n",
        "print(X.shape)"
      ]
    },
    {
      "cell_type": "code",
      "execution_count": 43,
      "metadata": {
        "colab": {
          "base_uri": "https://localhost:8080/"
        },
        "id": "xRbGFM-EAk_D",
        "outputId": "57df042a-92ff-4316-8633-d474c61ae88c"
      },
      "outputs": [
        {
          "name": "stdout",
          "output_type": "stream",
          "text": [
            "5057059\n",
            "<class 'numpy.ndarray'>\n",
            "(5057059, 5)\n"
          ]
        },
        {
          "data": {
            "text/plain": [
              "array([  2125, 126548, 126548, 126548, 126548], dtype=int32)"
            ]
          },
          "execution_count": 43,
          "metadata": {},
          "output_type": "execute_result"
        }
      ],
      "source": [
        "print(len(X))\n",
        "print(type(X))\n",
        "print(X.shape)\n",
        "X[1]"
      ]
    },
    {
      "cell_type": "code",
      "execution_count": 44,
      "metadata": {
        "id": "wZzucfblOVrv"
      },
      "outputs": [],
      "source": [
        "from tensorflow.keras.utils import to_categorical\n",
        "\n",
        "onehot_y = [[tag2index[w[1]] for w in s] for s in df_rnn2]\n",
        "y = pad_sequences(maxlen=max_len, sequences=onehot_y, padding=\"post\", value=tag2index[\"<PAD>\"])\n",
        "y = to_categorical(y, num_classes=len(tags))"
      ]
    },
    {
      "cell_type": "code",
      "execution_count": 45,
      "metadata": {
        "colab": {
          "base_uri": "https://localhost:8080/"
        },
        "id": "Rsw_rUs1sHQe",
        "outputId": "7736c54e-486e-4c03-cc0a-bfeeadd64301"
      },
      "outputs": [
        {
          "name": "stdout",
          "output_type": "stream",
          "text": [
            "5057059\n",
            "<class 'list'>\n"
          ]
        },
        {
          "data": {
            "text/plain": [
              "[4]"
            ]
          },
          "execution_count": 45,
          "metadata": {},
          "output_type": "execute_result"
        }
      ],
      "source": [
        "print(len(onehot_y))\n",
        "print(type(onehot_y))\n",
        "onehot_y[1]"
      ]
    },
    {
      "cell_type": "code",
      "execution_count": 46,
      "metadata": {
        "colab": {
          "base_uri": "https://localhost:8080/"
        },
        "id": "Gx7nsB0WDtHc",
        "outputId": "0d3b6b99-05f7-46c4-eccc-ef63db762959"
      },
      "outputs": [
        {
          "name": "stdout",
          "output_type": "stream",
          "text": [
            "5057059\n",
            "<class 'numpy.ndarray'>\n",
            "(5057059, 5, 6)\n"
          ]
        },
        {
          "data": {
            "text/plain": [
              "array([[0., 0., 0., 0., 1., 0.],\n",
              "       [0., 0., 0., 0., 0., 1.],\n",
              "       [0., 0., 0., 0., 0., 1.],\n",
              "       [0., 0., 0., 0., 0., 1.],\n",
              "       [0., 0., 0., 0., 0., 1.]], dtype=float32)"
            ]
          },
          "execution_count": 46,
          "metadata": {},
          "output_type": "execute_result"
        }
      ],
      "source": [
        "print(len(y))\n",
        "print(type(y))\n",
        "print(y.shape)\n",
        "y[1]"
      ]
    },
    {
      "cell_type": "code",
      "execution_count": 47,
      "metadata": {
        "colab": {
          "base_uri": "https://localhost:8080/"
        },
        "id": "dRhYS54USOVX",
        "outputId": "c47b0355-3caf-4dcf-cd71-0f206101d158"
      },
      "outputs": [
        {
          "name": "stdout",
          "output_type": "stream",
          "text": [
            "4551353\n",
            "505706\n",
            "4551353\n",
            "505706\n",
            "(4551353, 5)\n",
            "(505706, 5)\n",
            "(4551353, 5, 6)\n"
          ]
        }
      ],
      "source": [
        "# creaint train and test sets\n",
        "from sklearn.model_selection import train_test_split\n",
        "X_train, X_test, y_train, y_test = train_test_split(X, y, test_size=0.1)\n",
        "\n",
        "print(len(X_train))\n",
        "print(len(X_test))\n",
        "print(len(y_train))\n",
        "print(len(y_test))\n",
        "print(X_train.shape)\n",
        "print(X_test.shape)\n",
        "print(y_train.shape)"
      ]
    },
    {
      "cell_type": "code",
      "execution_count": 48,
      "metadata": {
        "id": "LtqJfAbXCoh2"
      },
      "outputs": [],
      "source": [
        "%pip install -q -U keras-tuner\n",
        "import keras_tuner as kt"
      ]
    },
    {
      "cell_type": "code",
      "execution_count": 49,
      "metadata": {
        "id": "bQUQQPv3GcbZ"
      },
      "outputs": [],
      "source": [
        "# import tensorflow as tf\n",
        "# from tensorflow import keras\n",
        "# from tensorflow.keras.layers import LSTM, Embedding, Dense, TimeDistributed, Dropout, Bidirectional \n",
        "\n",
        "# # source: Tensorflow tutorials https://www.tensorflow.org/tutorials/keras/keras_tuner\n",
        "\n",
        "# def model_builder(hp):\n",
        "#   model = keras.Sequential()\n",
        "\n",
        "#   # Tune the number of units in the first Dense layer - Choose an optimal value between 32-512\n",
        "#   # hp_units = hp.Int('units', min_value=32, max_value=512, step=32)\n",
        "\n",
        "#   model.add(Embedding(input_dim=len(vocab), output_dim=50, input_length=max_len))\n",
        "#   model.add(Bidirectional(LSTM(units=100, return_sequences=True, recurrent_dropout=0.1)))\n",
        "#   model.add(TimeDistributed(Dense(len(tags), activation=\"softmax\")))\n",
        "\n",
        "\n",
        "#   # Tune the learning rate for the optimizer - Choose an optimal value from 0.01, 0.001, or 0.0001\n",
        "#   # hp_learning_rate = hp.Choice('learning_rate', values=[1e-2, 1e-3, 1e-4]) \n",
        "#   model.compile(optimizer=\"adam\", loss=\"categorical_crossentropy\", metrics=[\"accuracy\"])\n",
        "#   # model.compile(optimizer=\"adam\", loss = tf.keras.losses.SparseCategoricalCrossentropy(from_logits=True), metrics=[\"accuracy\"])\n",
        "\n",
        "#   return model"
      ]
    },
    {
      "cell_type": "code",
      "execution_count": 50,
      "metadata": {
        "id": "KxT0yxwtC6Tc"
      },
      "outputs": [],
      "source": [
        "# tuner = kt.Hyperband(model_builder,\n",
        "#                      objective='val_accuracy',\n",
        "#                      max_epochs=3,\n",
        "#                      factor=3)\n",
        "# stop_early = tf.keras.callbacks.EarlyStopping(monitor='val_loss', patience=5)"
      ]
    },
    {
      "cell_type": "code",
      "execution_count": 51,
      "metadata": {
        "id": "7eGxoUCeGhvx"
      },
      "outputs": [],
      "source": [
        "# stop_early = tf.keras.callbacks.EarlyStopping(monitor='val_loss', patience=5)"
      ]
    },
    {
      "cell_type": "code",
      "execution_count": 52,
      "metadata": {
        "id": "U8H7x_JxGkop"
      },
      "outputs": [],
      "source": [
        "# tuner.search(X_train, y_train, epochs= 1, validation_split=0.2, callbacks=[stop_early])\n",
        "\n",
        "# # Get the optimal hyperparameters\n",
        "# best_hps=tuner.get_best_hyperparameters(num_trials=1)[0]\n",
        "\n",
        "# print(\"The optimal number of units in the first densely-connected layer is: \", best_hps.get('units') , \" and the optimal learning rate for the optimizer is \"\n",
        "# , best_hps.get('learning_rate'))"
      ]
    },
    {
      "cell_type": "code",
      "execution_count": 53,
      "metadata": {
        "id": "QlNo-1XiJ33K"
      },
      "outputs": [],
      "source": [
        "# # Build the model with the optimal hyperparameters and train it on the data for number of epochs\n",
        "# # model = tuner.hypermodel.build(best_hps)\n",
        "# model.summary()"
      ]
    },
    {
      "cell_type": "code",
      "execution_count": 54,
      "metadata": {
        "colab": {
          "base_uri": "https://localhost:8080/"
        },
        "id": "wsyuCnR2ax_b",
        "outputId": "78852a78-241b-4e31-dfbc-64c147b9fc4c"
      },
      "outputs": [
        {
          "name": "stderr",
          "output_type": "stream",
          "text": [
            "WARNING:tensorflow:Layer lstm_2 will not use cuDNN kernels since it doesn't meet the criteria. It will use a generic GPU kernel as fallback when running on GPU.\n",
            "WARNING:tensorflow:Layer lstm_2 will not use cuDNN kernels since it doesn't meet the criteria. It will use a generic GPU kernel as fallback when running on GPU.\n",
            "WARNING:tensorflow:Layer lstm_2 will not use cuDNN kernels since it doesn't meet the criteria. It will use a generic GPU kernel as fallback when running on GPU.\n"
          ]
        },
        {
          "name": "stdout",
          "output_type": "stream",
          "text": [
            "Model: \"sequential_2\"\n",
            "_________________________________________________________________\n",
            " Layer (type)                Output Shape              Param #   \n",
            "=================================================================\n",
            " embedding_2 (Embedding)     (None, 5, 50)             6327450   \n",
            "                                                                 \n",
            " bidirectional_2 (Bidirectio  (None, 5, 200)           120800    \n",
            " nal)                                                            \n",
            "                                                                 \n",
            " time_distributed_2 (TimeDis  (None, 5, 6)             1206      \n",
            " tributed)                                                       \n",
            "                                                                 \n",
            "=================================================================\n",
            "Total params: 6,449,456\n",
            "Trainable params: 6,449,456\n",
            "Non-trainable params: 0\n",
            "_________________________________________________________________\n",
            "None\n"
          ]
        }
      ],
      "source": [
        "from tensorflow.keras.models import Sequential\n",
        "from tensorflow.keras.layers import LSTM, Embedding, Dense, TimeDistributed, Dropout, Bidirectional \n",
        "from tensorflow.keras.metrics import CategoricalAccuracy\n",
        "\n",
        "\n",
        "model = Sequential()\n",
        "model.add(Embedding(input_dim=len(vocab), output_dim=50, input_length=max_len))\n",
        "model.add(Bidirectional(LSTM(units=100, return_sequences=True, recurrent_dropout=0.1)))\n",
        "model.add(TimeDistributed(Dense(len(tags), activation=\"softmax\")))\n",
        "model.compile(optimizer=\"adam\", loss=\"categorical_crossentropy\", metrics=[\"accuracy\"])\n",
        "print(model.summary())"
      ]
    },
    {
      "cell_type": "code",
      "execution_count": 55,
      "metadata": {
        "colab": {
          "base_uri": "https://localhost:8080/"
        },
        "id": "tgAyRjDmusEZ",
        "outputId": "5fc5fc4d-80d6-4f19-b5a8-747512dd37a2"
      },
      "outputs": [
        {
          "name": "stdout",
          "output_type": "stream",
          "text": [
            "113784/113784 [==============================] - 5115s 45ms/step - loss: 0.0501 - accuracy: 0.9808 - val_loss: 0.0477 - val_accuracy: 0.9814\n",
            "Best epoch: 1\n"
          ]
        }
      ],
      "source": [
        "# x_train.reshape\n",
        "history = model.fit(X_train, y_train, epochs= 1, validation_split=0.2)\n",
        "\n",
        "val_acc_per_epoch = history.history['val_accuracy']\n",
        "best_epoch = val_acc_per_epoch.index(max(val_acc_per_epoch)) + 1\n",
        "print('Best epoch: %d' % (best_epoch,))"
      ]
    },
    {
      "cell_type": "code",
      "execution_count": 56,
      "metadata": {
        "id": "P6QyLmX6LG1t"
      },
      "outputs": [],
      "source": [
        "# hypermodel = tuner.hypermodel.build(best_hps)\n",
        "# # Retrain the model\n",
        "# hypermodel.fit(X_train, y_train, epochs=best_epoch, validation_split=0.2)"
      ]
    },
    {
      "cell_type": "code",
      "execution_count": 59,
      "metadata": {
        "colab": {
          "base_uri": "https://localhost:8080/"
        },
        "id": "aytLEx0SbUzW",
        "outputId": "be3d0ddc-9006-4d83-a432-dec4a5022634"
      },
      "outputs": [
        {
          "name": "stdout",
          "output_type": "stream",
          "text": [
            "15804/15804 [==============================] - 80s 5ms/step - loss: 0.0478 - accuracy: 0.9813\n",
            "[test loss, test accuracy]: [0.04781920462846756, 0.9813488721847534]\n"
          ]
        }
      ],
      "source": [
        "eval_result = model.evaluate(X_test, y_test)\n",
        "print(\"[test loss, test accuracy]:\", eval_result)"
      ]
    },
    {
      "cell_type": "code",
      "execution_count": 66,
      "metadata": {
        "colab": {
          "base_uri": "https://localhost:8080/"
        },
        "id": "PeYyr2y1ohcW",
        "outputId": "94360cf2-0492-480f-c8ae-8280b257cc68"
      },
      "outputs": [
        {
          "name": "stdout",
          "output_type": "stream",
          "text": [
            "45399\n",
            "6\n"
          ]
        }
      ],
      "source": [
        "# creating vocab and tags lists from final test\n",
        "vocab_test = list(set(list(df_test['word'])))\n",
        "vocab_test.append('<PAD>')\n",
        "\n",
        "tags_test = list(set(list(df_test['tag'])))\n",
        "tags_test.append('<PAD>')\n",
        "\n",
        "print(len(vocab_test))\n",
        "print(len(tags_test))"
      ]
    },
    {
      "cell_type": "code",
      "execution_count": 67,
      "metadata": {
        "id": "vPvhkFtmqnzW"
      },
      "outputs": [],
      "source": [
        "df_test2 = [[(df_test.loc[i,'word'], df_test.loc[i,'tag'])] for i in range(len(df_test))]"
      ]
    },
    {
      "cell_type": "code",
      "execution_count": 68,
      "metadata": {
        "id": "HhMcXE_vptP2"
      },
      "outputs": [],
      "source": [
        "from tensorflow.keras.preprocessing.sequence import pad_sequences\n",
        "# source: https://colab.research.google.com/drive/1D8aeXQVb_aVcfr7thA7UYlmD0Tq_XjPU?usp=sharing\n",
        "max_len = 5\n",
        "word2index_test = {w: i for i, w in enumerate(vocab_test)}\n",
        "tag2index_test = {t: i for i, t in enumerate(tags_test)}\n",
        "onehot_test = [[word2index_test[w[0]] for w in s] for s in df_test2]\n",
        "X_f_test = pad_sequences(maxlen=max_len, sequences=onehot_test, padding=\"post\", value=len(vocab)-1)"
      ]
    },
    {
      "cell_type": "code",
      "execution_count": 69,
      "metadata": {
        "id": "OfoPn6yIp-sR"
      },
      "outputs": [],
      "source": [
        "from tensorflow.keras.utils import to_categorical\n",
        "\n",
        "onehot_y_test = [[tag2index_test[w[1]] for w in s] for s in df_test2]\n",
        "y_f_test = pad_sequences(maxlen=max_len, sequences=onehot_y_test, padding=\"post\", value=tag2index_test[\"<PAD>\"])\n",
        "y_f_test = to_categorical(y_f_test, num_classes=len(tags_test))"
      ]
    },
    {
      "cell_type": "code",
      "execution_count": 70,
      "metadata": {
        "colab": {
          "base_uri": "https://localhost:8080/"
        },
        "id": "OnLLylR0RNnq",
        "outputId": "ef96ac39-ca09-4378-a459-834c12f28be9"
      },
      "outputs": [
        {
          "data": {
            "text/plain": [
              "(1000000, 5, 6)"
            ]
          },
          "execution_count": 70,
          "metadata": {},
          "output_type": "execute_result"
        }
      ],
      "source": [
        "y_f_test.shape"
      ]
    },
    {
      "cell_type": "code",
      "execution_count": null,
      "metadata": {
        "id": "WbTFx56zrgzH"
      },
      "outputs": [],
      "source": [
        "# # accuracy on final test set\n",
        "# eval_result_final_test = hypermodel.evaluate(X_f_test, y_f_test)\n",
        "# print(\"[test loss, test accuracy]:\", eval_result_final_test)"
      ]
    },
    {
      "cell_type": "code",
      "execution_count": 71,
      "metadata": {
        "colab": {
          "base_uri": "https://localhost:8080/"
        },
        "id": "OaPR76GRbm4z",
        "outputId": "5bd2755e-3cf9-4bc0-e933-d9b771d88510"
      },
      "outputs": [
        {
          "name": "stdout",
          "output_type": "stream",
          "text": [
            "31250/31250 [==============================] - 168s 5ms/step - loss: 0.1276 - accuracy: 0.9632\n",
            "[test loss, test accuracy]: [0.12760058045387268, 0.9631783962249756]\n"
          ]
        }
      ],
      "source": [
        "# accuracy on final test set\n",
        "eval_result_final_test = model.evaluate(X_f_test, y_f_test)\n",
        "print(\"[test loss, test accuracy]:\", eval_result_final_test)"
      ]
    },
    {
      "cell_type": "markdown",
      "metadata": {
        "id": "rO_yixYs3ZlQ"
      },
      "source": [
        "**HMM**"
      ]
    },
    {
      "cell_type": "code",
      "execution_count": null,
      "metadata": {
        "id": "-EA_4Onr3Yzs"
      },
      "outputs": [],
      "source": [
        "# Import the toolkit and tags\n",
        "import nltk\n",
        "\n",
        "# Import HMM module\n",
        "from nltk.tag import hmm\n",
        "\n",
        "# Setup a trainer with default(None) values and train with the data\n",
        "tagger = nltk.HiddenMarkovModelTagger.train(train)\n",
        "# Prints the basic data about the tagger\n",
        "print(tagger)\n",
        "# accuracy on test subset of training data\n",
        "print(tagger.accuracy(test))"
      ]
    },
    {
      "cell_type": "code",
      "execution_count": null,
      "metadata": {
        "id": "gxq7t4mI9qyA"
      },
      "outputs": [],
      "source": [
        "print(tagger.accuracy(final_test))"
      ]
    }
  ],
  "metadata": {
    "accelerator": "GPU",
    "colab": {
      "collapsed_sections": [],
      "provenance": []
    },
    "kernelspec": {
      "display_name": "Python 3.10.7 64-bit",
      "language": "python",
      "name": "python3"
    },
    "language_info": {
      "name": "python",
      "version": "3.10.7"
    },
    "vscode": {
      "interpreter": {
        "hash": "aee8b7b246df8f9039afb4144a1f6fd8d2ca17a180786b69acc140d282b71a49"
      }
    }
  },
  "nbformat": 4,
  "nbformat_minor": 0
}
